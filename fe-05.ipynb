{
 "cells": [
  {
   "cell_type": "markdown",
   "id": "9226a017-336b-48b9-ad57-1586f812f759",
   "metadata": {},
   "source": [
    "Q1. To calculate the Pearson correlation coefficient between the amount of time students spend studying for an exam and their final exam scores, you'll need the data for both variables. Let's denote the time spent studying as variable X and the final exam scores as variable Y. Once you have the data, follow these steps:\n",
    "\n",
    "Calculate the mean (average) of X and Y.\n",
    "Subtract the mean of X from each X value and the mean of Y from each Y value.\n",
    "Multiply the obtained differences for each pair of values (X and Y).\n",
    "Sum up all these products.\n",
    "Calculate the standard deviation of X and Y.\n",
    "Multiply the standard deviations of X and Y.\n",
    "Divide the sum of the products (step 4) by the product of the standard deviations (step 6).\n",
    "\n",
    "Interpretation:\n",
    "\n",
    "if r>0, there is a positive correlation (as X increases, Y tends to increase).\n",
    "r<0, there is a negative correlation (as X increases, Y tends to decrease).\n",
    "If \n",
    "\n",
    "r=0, there is no linear correlation."
   ]
  },
  {
   "cell_type": "markdown",
   "id": "98db2e6d-5406-4916-8af1-8c332d15f658",
   "metadata": {},
   "source": [
    "Q2. To calculate Spearman's rank correlation between the amount of sleep individuals get each night and their overall job satisfaction level, follow these steps:\n",
    "\n",
    "Rank the data for both variables separately.\n",
    "Calculate the difference between the ranks for each pair of values.\n",
    "Square the differences.\n",
    "Sum up all the squared differences.\n",
    "Use the formula for Spearman's rank correlation coefficient:\n",
    "\n",
    "\n",
    "where di is the difference between the ranks and \n",
    "\n",
    "n is the number of pairs.\n",
    "\n",
    "Interpretation:\n",
    "\n",
    "\n",
    "ρ ranges from -1 to 1.\n",
    "If \n",
    "\n",
    "\n",
    "\n",
    "ρ>0, there is a positive monotonic correlation.\n",
    "If \n",
    "\n",
    "ρ<0, there is a negative monotonic correlation.\n",
    "If \n",
    "ρ=0, there is no monotonic correlation.\n"
   ]
  },
  {
   "cell_type": "markdown",
   "id": "9392b453-cb6b-4403-8ce6-3b96bfdaee5d",
   "metadata": {},
   "source": [
    "Q3. To compare the Pearson correlation coefficient and Spearman's rank correlation between the number of hours of exercise per week and body mass index (BMI):\n",
    "\n",
    "Calculate both coefficients using the methods described in Q1 and Q2, and then compare the results. Keep in mind that Pearson measures linear relationships, while Spearman measures monotonic relationships. If the relationship is linear, Pearson and Spearman should provide similar results. If the relationship is nonlinear but monotonic, Spearman will still capture the correlation."
   ]
  },
  {
   "cell_type": "markdown",
   "id": "a0a7d53c-162e-4f80-9168-b7ac90438fb7",
   "metadata": {},
   "source": [
    "Q4. To calculate the Pearson correlation coefficient between the number of hours individuals spend watching television per day and their level of physical activity:\n",
    "\n",
    "Follow the steps mentioned in Q1. Substitute the time spent watching television for variable X and the level of physical activity for variable Y. Interpret the result as explained in Q1.\n",
    "\n",
    "\n",
    "\n",
    "\n",
    "\n",
    "\n"
   ]
  },
  {
   "cell_type": "code",
   "execution_count": null,
   "id": "6d670729-3ac1-48dd-b53b-186968b4eca9",
   "metadata": {},
   "outputs": [],
   "source": [
    "Q6. A company is interested in examining the relationship between the number of sales calls made per day\n",
    "and the number of sales made per week. The company collected data on both variables from a sample of\n",
    "30 sales representatives. Calculate the Pearson correlation coefficient between these two variables.\n",
    "\n"
   ]
  }
 ],
 "metadata": {
  "kernelspec": {
   "display_name": "Python 3 (ipykernel)",
   "language": "python",
   "name": "python3"
  },
  "language_info": {
   "codemirror_mode": {
    "name": "ipython",
    "version": 3
   },
   "file_extension": ".py",
   "mimetype": "text/x-python",
   "name": "python",
   "nbconvert_exporter": "python",
   "pygments_lexer": "ipython3",
   "version": "3.10.8"
  }
 },
 "nbformat": 4,
 "nbformat_minor": 5
}
